{
 "cells": [
  {
   "cell_type": "code",
   "execution_count": 1,
   "id": "1e384267",
   "metadata": {},
   "outputs": [],
   "source": [
    "#Q1. What is an exception in python? write difference between Excetions and syntax error\n",
    "#ANS: Error in Python can be of two types i.e. Syntax errors and Exceptions. Errors are problems in a program due to which the program will stop the execution. \n",
    "#On the other hand, exceptions are raised when some internal events occur which change the normal flow of the program. \n",
    "#Syntax Error:\n",
    "\n",
    "#Syntax errors occur during the compilation or parsing phase of a program, before it is executed.\n",
    "#They are caused by violations of the programming language's syntax rules. \n",
    "#These rules define the correct structure and format of code, including things like proper punctuation, keywords, and variable names.\n",
    "\n",
    "#Exceptions:\n",
    "\n",
    "#Exceptions occur during the execution of a program when something unexpected or exceptional happens, such as dividing by zero, attempting to access a non-existent file, or running out of memory.\n",
    "#They are not necessarily caused by syntax violations but rather by runtime conditions that the program encounters during its execution.\n",
    "#Examples of exceptions include \"ZeroDivisionError,\" \"FileNotFoundError,\" and \"OutOfMemoryError.\""
   ]
  },
  {
   "cell_type": "code",
   "execution_count": 2,
   "id": "bb97d65d",
   "metadata": {},
   "outputs": [
    {
     "ename": "ZeroDivisionError",
     "evalue": "division by zero",
     "output_type": "error",
     "traceback": [
      "\u001b[1;31m---------------------------------------------------------------------------\u001b[0m",
      "\u001b[1;31mZeroDivisionError\u001b[0m                         Traceback (most recent call last)",
      "Cell \u001b[1;32mIn[2], line 11\u001b[0m\n\u001b[0;32m      8\u001b[0m numerator \u001b[38;5;241m=\u001b[39m \u001b[38;5;241m10\u001b[39m\n\u001b[0;32m      9\u001b[0m denominator \u001b[38;5;241m=\u001b[39m \u001b[38;5;241m0\u001b[39m\n\u001b[1;32m---> 11\u001b[0m result \u001b[38;5;241m=\u001b[39m numerator \u001b[38;5;241m/\u001b[39m denominator  \u001b[38;5;66;03m# This line will raise a ZeroDivisionError\u001b[39;00m\n\u001b[0;32m     12\u001b[0m \u001b[38;5;28mprint\u001b[39m(\u001b[38;5;124m\"\u001b[39m\u001b[38;5;124mResult:\u001b[39m\u001b[38;5;124m\"\u001b[39m, result)\n",
      "\u001b[1;31mZeroDivisionError\u001b[0m: division by zero"
     ]
    }
   ],
   "source": [
    "#Q2. What happens when exception is not handled? Explain with example\n",
    "#ANS:When an exception is not handled in a program, it typically leads to the program terminating abruptly or crashing. \n",
    "#This means that the normal flow of the program is disrupted, and it may not complete its intended tasks. \n",
    "#Instead, an error message or traceback is displayed to the user, providing information about the unhandled exception, which can help developers diagnose and fix the issue.\n",
    "\n",
    "#Here's an example to illustrate what happens when an exception is not handled:\n",
    "# Example 1: Division by Zero Error (Unhandled Exception)\n",
    "numerator = 10\n",
    "denominator = 0\n",
    "\n",
    "result = numerator / denominator  # This line will raise a ZeroDivisionError\n",
    "print(\"Result:\", result)"
   ]
  },
  {
   "cell_type": "code",
   "execution_count": 3,
   "id": "53c3a302",
   "metadata": {},
   "outputs": [
    {
     "name": "stdout",
     "output_type": "stream",
     "text": [
      "Error: division by zero\n"
     ]
    }
   ],
   "source": [
    "#To prevent the program from crashing, you can handle the exception using a try-except block:\n",
    "# Example 2: Handling the Division by Zero Error\n",
    "numerator = 10\n",
    "denominator = 0\n",
    "\n",
    "try:\n",
    "    result = numerator / denominator\n",
    "    print(\"Result:\", result)\n",
    "except ZeroDivisionError as e:\n",
    "    print(\"Error:\", e)"
   ]
  },
  {
   "cell_type": "code",
   "execution_count": 4,
   "id": "8cf8fa8a",
   "metadata": {},
   "outputs": [
    {
     "name": "stdout",
     "output_type": "stream",
     "text": [
      "Enter a number: 2\n",
      "Result: 5.0\n",
      "Program finished.\n"
     ]
    }
   ],
   "source": [
    "#Q3. Which python statements are used to catch and handle exceptions? Explain with an exmaple\n",
    "#ANS: In Python, you can catch and handle exceptions using the try and except statements. These statements allow you to define a block of code that may raise an exception, and then specify how to handle the exception if it occurs. \n",
    "#Here's the basic syntax:\n",
    "# Example: Catching and Handling an Exception\n",
    "\n",
    "# Prompt the user for input\n",
    "user_input = input(\"Enter a number: \")\n",
    "\n",
    "try:\n",
    "    # Attempt to convert the user input to an integer\n",
    "    num = int(user_input)\n",
    "\n",
    "    # Perform some operation with the integer\n",
    "    result = 10 / num\n",
    "\n",
    "    # Display the result\n",
    "    print(\"Result:\", result)\n",
    "\n",
    "except ValueError as ve:\n",
    "    # Handle the ValueError (e.g., if the user input cannot be converted to an integer)\n",
    "    print(\"Error: Invalid input. Please enter a valid integer.\")\n",
    "except ZeroDivisionError as ze:\n",
    "    # Handle the ZeroDivisionError (e.g., if the user enters 0 as the input)\n",
    "    print(\"Error: Division by zero is not allowed.\")\n",
    "except Exception as e:\n",
    "    # Handle any other exceptions that may occur\n",
    "    print(\"An error occurred:\", e)\n",
    "\n",
    "# The program continues to execute after handling the exception\n",
    "print(\"Program finished.\")\n"
   ]
  },
  {
   "cell_type": "code",
   "execution_count": 5,
   "id": "2b3ac028",
   "metadata": {},
   "outputs": [
    {
     "name": "stdout",
     "output_type": "stream",
     "text": [
      "Try block has no error\n",
      "We need to get executed\n"
     ]
    }
   ],
   "source": [
    "#Q4. explain try and else finally and except with example\n",
    "#TRY BLOCK HAS NO ERROR\n",
    "try:#code that needs to be tested that has some error in it\n",
    "    f = open(\"tt1.txt\" , \"w\")\n",
    "except Exception as e:#code that execeutes when try block fails\n",
    "    print(\"It contain some exception\" , e)\n",
    "else:#this block of code gets executed when try block is executed successfully\n",
    "    f.write(\"this is my name\")\n",
    "    print(\"Try block has no error\")\n",
    "finally:#it is the block of code that needs to be runned the code has some error or not\n",
    "    print(\"We need to get executed\")"
   ]
  },
  {
   "cell_type": "code",
   "execution_count": 7,
   "id": "a8842852",
   "metadata": {},
   "outputs": [
    {
     "name": "stdout",
     "output_type": "stream",
     "text": [
      "no Eroor\n",
      "We need to get executed\n"
     ]
    }
   ],
   "source": [
    "#TRY BLOCK HAS SOME ERROR\n",
    "try:#code that needs to be tested that has some error in it\n",
    "    f = open(\"tt1.txt\" , \"r\")\n",
    "except Exception as e:#code that execeutes when try block fails\n",
    "    print(\"It contain some exception\" , e)\n",
    "else:#this block of code gets executed when try block is executed successfully\n",
    "    print(\"no Eroor\")\n",
    "finally:#it is the block of code that needs to be runned the code has some error or not\n",
    "    print(\"We need to get executed\")"
   ]
  },
  {
   "cell_type": "code",
   "execution_count": 8,
   "id": "03063171",
   "metadata": {},
   "outputs": [
    {
     "name": "stdout",
     "output_type": "stream",
     "text": [
      "Custom error occurred: Value cannot be negative\n"
     ]
    }
   ],
   "source": [
    "#Q5. What are exceptions in python? why do we need custom exceptions? Explain with an example\n",
    "#ANS:In Python, an exception is an abnormal or unexpected event that occurs during the execution of a program, which can disrupt the normal flow of the program. Exceptions are used to handle errors and exceptional situations, allowing you to gracefully respond to unexpected events rather than letting the program crash. Exceptions are essential for writing robust and reliable code.\n",
    "\n",
    "#Here are some common reasons why exceptions are used in Python:\n",
    "#Error Handling: Exceptions provide a structured way to handle errors and exceptional conditions in your code. Instead of crashing the program when an error occurs, you can catch and handle exceptions to take appropriate actions, such as displaying an error message to the user, logging the error for debugging purposes, or attempting error recovery.\n",
    "#Code Separation: Exceptions help separate the code that detects and reports errors from the code that handles errors. This separation of concerns makes your code more organized and easier to maintain.\n",
    "#Robustness: Exception handling enhances the robustness of your programs. It allows you to anticipate and handle unexpected situations, making your code more fault-tolerant and resilient.\n",
    "#Custom exceptions, also known as user-defined exceptions, are exceptions that you create in your Python programs to represent specific error conditions that are not covered by built-in exceptions. You might need custom exceptions for the following reasons:\n",
    "#Specificity: Custom exceptions allow you to be more specific about the types of errors or exceptional conditions that can occur in your code. Instead of using generic built-in exceptions like Exception or ValueError, you can define custom exceptions that provide meaningful names and context.\n",
    "#Clarity: Custom exceptions make your code more self-explanatory and readable. When someone reads your code, custom exception names can provide insights into what went wrong and why.\n",
    "#Error Hierarchy: You can create a hierarchy of custom exceptions, with base exceptions that capture broader categories of errors and more specific exceptions that inherit from them. This hierarchy can help you structure your error handling logic more effectively.\n",
    "#Here's an example of defining and using a custom exception:\n",
    "class CustomError(Exception):\n",
    "    \"\"\"Custom exception for a specific error condition.\"\"\"\n",
    "    def __init__(self, message):\n",
    "        super().__init__(message)\n",
    "\n",
    "def my_function(value):\n",
    "    if value < 0:\n",
    "        raise CustomError(\"Value cannot be negative\")\n",
    "\n",
    "try:\n",
    "    my_function(-5)\n",
    "except CustomError as ce:\n",
    "    print(\"Custom error occurred:\", ce)\n",
    "#In this example, we define a custom exception called CustomError to represent a specific error condition where a negative value is not allowed. When the my_function function is called with a negative value, it raises this custom exception. We then catch and handle the CustomError exception in the try block.\n",
    "\n",
    "#Custom exceptions help you create more expressive and organized error-handling code, making your programs more maintainable and easier to understand. They also allow you to tailor error messages and behaviors to specific situations in your application."
   ]
  },
  {
   "cell_type": "code",
   "execution_count": 9,
   "id": "e76aa45d",
   "metadata": {},
   "outputs": [
    {
     "name": "stdout",
     "output_type": "stream",
     "text": [
      "Custom error occurred: Division by zero is not allowed\n"
     ]
    }
   ],
   "source": [
    "#Q6. create an custom exception class. use this to handle a exception\n",
    "#ANS:\n",
    "# Define a custom exception class\n",
    "class CustomError(Exception):\n",
    "    \"\"\"Custom exception for a specific error condition.\"\"\"\n",
    "    def __init__(self, message):\n",
    "        super().__init__(message)\n",
    "\n",
    "def divide_numbers(a, b):\n",
    "    if b == 0:\n",
    "        raise CustomError(\"Division by zero is not allowed\")\n",
    "    return a / b\n",
    "\n",
    "try:\n",
    "    result = divide_numbers(10, 0)\n",
    "    print(\"Result:\", result)\n",
    "except CustomError as ce:\n",
    "    print(\"Custom error occurred:\", ce)\n",
    "else:\n",
    "    print(\"Division was successful.\")\n"
   ]
  },
  {
   "cell_type": "code",
   "execution_count": null,
   "id": "9c4ac86e",
   "metadata": {},
   "outputs": [],
   "source": []
  }
 ],
 "metadata": {
  "kernelspec": {
   "display_name": "Python 3 (ipykernel)",
   "language": "python",
   "name": "python3"
  },
  "language_info": {
   "codemirror_mode": {
    "name": "ipython",
    "version": 3
   },
   "file_extension": ".py",
   "mimetype": "text/x-python",
   "name": "python",
   "nbconvert_exporter": "python",
   "pygments_lexer": "ipython3",
   "version": "3.11.3"
  }
 },
 "nbformat": 4,
 "nbformat_minor": 5
}
