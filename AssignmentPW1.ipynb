{
 "cells": [
  {
   "cell_type": "raw",
   "id": "db01ccb8",
   "metadata": {},
   "source": [
    "Q1. Create one variable containing following type of data: (i) string (ii) list (iii) float (iv) tuple"
   ]
  },
  {
   "cell_type": "raw",
   "id": "ad4b3a62",
   "metadata": {},
   "source": [
    "ANS:(i)"
   ]
  },
  {
   "cell_type": "code",
   "execution_count": 1,
   "id": "1b2c2e03",
   "metadata": {},
   "outputs": [
    {
     "name": "stdout",
     "output_type": "stream",
     "text": [
      "My name is Mir Kashif Ali\n",
      "<class 'str'>\n"
     ]
    }
   ],
   "source": [
    "variable_name = \"Mir Kashif Ali\"\n",
    "print(\"My name is\", variable_name)\n",
    "print(type(variable_name))"
   ]
  },
  {
   "cell_type": "raw",
   "id": "3f8fb293",
   "metadata": {},
   "source": [
    "ANS:(ii)"
   ]
  },
  {
   "cell_type": "code",
   "execution_count": 2,
   "id": "ad420c3b",
   "metadata": {},
   "outputs": [
    {
     "name": "stdout",
     "output_type": "stream",
     "text": [
      "['kashif', 1, 2, 3, 4, 5, 6]\n",
      "<class 'list'>\n"
     ]
    }
   ],
   "source": [
    "variable_details = [ \"kashif\" , 1 ,2, 3, 4 ,5 ,6]\n",
    "print(variable_details)\n",
    "print(type(variable_details))"
   ]
  },
  {
   "cell_type": "raw",
   "id": "ab5e6758",
   "metadata": {},
   "source": [
    "ANS:(iii)"
   ]
  },
  {
   "cell_type": "code",
   "execution_count": 3,
   "id": "c77d6922",
   "metadata": {},
   "outputs": [
    {
     "name": "stdout",
     "output_type": "stream",
     "text": [
      "My weight is 82.5\n",
      "<class 'float'>\n"
     ]
    }
   ],
   "source": [
    "variable_weights = 82.5\n",
    "print(\"My weight is\" , variable_weights)\n",
    "print(type(variable_weights))"
   ]
  },
  {
   "cell_type": "raw",
   "id": "ac117d7d",
   "metadata": {},
   "source": [
    "ANS:(IV)"
   ]
  },
  {
   "cell_type": "code",
   "execution_count": 4,
   "id": "992419e0",
   "metadata": {},
   "outputs": [
    {
     "name": "stdout",
     "output_type": "stream",
     "text": [
      "Student name is Mir Ali\n",
      "Student year is 3rd year\n",
      "Student roll no. is 15\n",
      "<class 'tuple'>\n"
     ]
    }
   ],
   "source": [
    "variable_std = (\"Mir Ali\" , \"3rd year\" , 15)\n",
    "print(\"Student name is\" , variable_std[0])\n",
    "print(\"Student year is\" , variable_std[1])\n",
    "print(\"Student roll no. is\" , variable_std[2])\n",
    "print(type(variable_std))"
   ]
  },
  {
   "cell_type": "raw",
   "id": "2884a990",
   "metadata": {},
   "source": [
    "Q2. Given are some following variables containing data:\n",
    "(i) var1 = ‘ ‘\n",
    "(ii) var2 = ‘[ DS , ML , Python]’\n",
    "(iii) var3 = [ ‘DS’ , ’ML’ , ‘Python’ ]\n",
    "(iv) var4 = 1.\n",
    "What will be the data type of the above given variable."
   ]
  },
  {
   "cell_type": "raw",
   "id": "e150e239",
   "metadata": {},
   "source": [
    "ANS(i) var1 = ‘ ‘= Sting data type\n",
    "ANS(ii)  var2 = ‘[ DS , ML , Python]’ =  Sting data type\n",
    "ANS(iii) var3 = [ ‘DS’ , ’ML’ , ‘Python’ ] = List data type\n",
    "ANS(iv) var4 = 1 = INT data type"
   ]
  },
  {
   "cell_type": "raw",
   "id": "05d52113",
   "metadata": {},
   "source": [
    "Q3. Explain the use of the following operators using an example:\n",
    "(i) /\n",
    "(ii) %\n",
    "(iii) //\n",
    "(iv) **"
   ]
  },
  {
   "cell_type": "raw",
   "id": "c6421cbc",
   "metadata": {},
   "source": [
    "ANS:(i) / = This operator is used for divison between data types\n",
    "(ii) % = This operator is used for finding the remainder \n",
    "(ii) // = in Python, the double forward slash // is the floor division operator. It is used for performing division where the result should be the largest integer less than or equal to the quotient of the division. In other words, it performs division and truncates the decimal part of the result.\n",
    "(iv) ** = In Python, the double asterisk ** is the exponentiation operator. It is used to raise a number to a certain power."
   ]
  },
  {
   "cell_type": "raw",
   "id": "d7eb0fcb",
   "metadata": {},
   "source": [
    "Q4. Create a list of length 10 of your choice containing multiple types of data. Using for loop print the\n",
    "element and its data type."
   ]
  },
  {
   "cell_type": "code",
   "execution_count": 5,
   "id": "2e307134",
   "metadata": {},
   "outputs": [
    {
     "name": "stdout",
     "output_type": "stream",
     "text": [
      "1 <class 'int'>\n",
      "2 <class 'int'>\n",
      "3 <class 'int'>\n",
      "4 <class 'int'>\n",
      "5.5 <class 'float'>\n",
      "6 <class 'int'>\n",
      "7 <class 'int'>\n",
      "a <class 'str'>\n",
      "9 <class 'int'>\n",
      "10 <class 'int'>\n"
     ]
    }
   ],
   "source": [
    "details_lists = [1 ,2 ,3 ,4,5.5,6,7,\"a\" , 9 , 10]\n",
    "for i in details_lists:\n",
    "    print(i , type(i))"
   ]
  },
  {
   "cell_type": "raw",
   "id": "eff6a857",
   "metadata": {},
   "source": [
    "Q5. Using a while loop, verify if the number A is purely divisible by number B and if so then how many\n",
    "times it can be divisible."
   ]
  },
  {
   "cell_type": "code",
   "execution_count": 1,
   "id": "cc0c01cf",
   "metadata": {},
   "outputs": [
    {
     "name": "stdout",
     "output_type": "stream",
     "text": [
      "Enter the number A: 6\n",
      "Enter the number B: 2\n",
      "3.0 cannot be purely divided by 2. The remainder is 3.0.\n"
     ]
    }
   ],
   "source": [
    "# Input two numbers A and B\n",
    "A = int(input(\"Enter the number A: \"))\n",
    "B = int(input(\"Enter the number B: \"))\n",
    "\n",
    "# Initialize a counter to keep track of how many times A can be divided by B\n",
    "count = 0\n",
    "\n",
    "# Use a while loop to check divisibility and count\n",
    "while A % B == 0:\n",
    "    A = A / B\n",
    "    count += 1\n",
    "\n",
    "# Check if A can be purely divided by B\n",
    "if A == 1:\n",
    "    print(f\"{A} can be purely divided by {B} {count} times.\")\n",
    "else:\n",
    "    print(f\"{A} cannot be purely divided by {B}. The remainder is {A}.\")\n",
    "    \n",
    "    "
   ]
  },
  {
   "cell_type": "raw",
   "id": "48fa39b4",
   "metadata": {},
   "source": [
    "Q6. Create a list containing 25 int type data. Using for loop and if-else condition print if the element is\n",
    "divisible by 3 or not."
   ]
  },
  {
   "cell_type": "code",
   "execution_count": 18,
   "id": "2224f924",
   "metadata": {},
   "outputs": [
    {
     "name": "stdout",
     "output_type": "stream",
     "text": [
      "1 is not divisible by 3\n",
      "2 is not divisible by 3\n",
      "3 is divisible by 3\n",
      "4 is not divisible by 3\n",
      "5 is not divisible by 3\n",
      "6 is divisible by 3\n",
      "7 is not divisible by 3\n",
      "8 is not divisible by 3\n",
      "9 is divisible by 3\n",
      "10 is not divisible by 3\n",
      "11 is not divisible by 3\n",
      "12 is divisible by 3\n",
      "13 is not divisible by 3\n",
      "14 is not divisible by 3\n",
      "15 is divisible by 3\n",
      "16 is not divisible by 3\n",
      "17 is not divisible by 3\n",
      "18 is divisible by 3\n",
      "19 is not divisible by 3\n",
      "20 is not divisible by 3\n",
      "21 is divisible by 3\n",
      "22 is not divisible by 3\n",
      "23 is not divisible by 3\n",
      "24 is divisible by 3\n",
      "25 is not divisible by 3\n"
     ]
    }
   ],
   "source": [
    "list_data = (1,2,3,4,5,6,7,8,9,10,11,12,13,14,15,16,17,18,19,20,21,22,23,24,25)\n",
    "for i in list_data:\n",
    "    if i%3 == 0:\n",
    "        print(f\"{i} is divisible by 3\")\n",
    "    else:\n",
    "        print(f\"{i} is not divisible by 3\")\n"
   ]
  },
  {
   "cell_type": "raw",
   "id": "14b825d9",
   "metadata": {},
   "source": [
    "Q7. What do you understand about mutable and immutable data types? Give examples for both showing\n",
    "this property."
   ]
  },
  {
   "cell_type": "raw",
   "id": "49c57b53",
   "metadata": {},
   "source": [
    "Mutable and immutable data types are terms used in computer science and programming to describe whether the data stored in a variable can be changed after it has been created.\n",
    "\n",
    "Immutable Data Types:\n",
    "Immutable data types are those whose values cannot be modified after they are created. Any operation that appears to modify an immutable data type actually creates a new value with the modified content. Immutable data types are often considered safer and more predictable because they prevent accidental changes.\n",
    "\n",
    "Examples of immutable data types:\n",
    "\n",
    "Strings: In most programming languages, strings are immutable. When you perform operations like concatenation or substring extraction, you create new string objects rather than modifying the original one.\n",
    "Mutable Data Types:\n",
    "Mutable data types are those whose values can be modified after they are created. This means you can change the content of the variable without creating a new object.\n",
    "\n",
    "Examples of mutable data types:\n",
    "\n",
    "Lists: Lists in Python are mutable. You can add, remove, or modify elements within a list.\n",
    "Dictionaries: Dictionaries in Python are also mutable. You can add, remove, or update key-value pairs."
   ]
  }
 ],
 "metadata": {
  "kernelspec": {
   "display_name": "Python 3 (ipykernel)",
   "language": "python",
   "name": "python3"
  },
  "language_info": {
   "codemirror_mode": {
    "name": "ipython",
    "version": 3
   },
   "file_extension": ".py",
   "mimetype": "text/x-python",
   "name": "python",
   "nbconvert_exporter": "python",
   "pygments_lexer": "ipython3",
   "version": "3.11.3"
  }
 },
 "nbformat": 4,
 "nbformat_minor": 5
}
