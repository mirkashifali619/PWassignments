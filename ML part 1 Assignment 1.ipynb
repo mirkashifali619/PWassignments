{
 "cells": [
  {
   "cell_type": "markdown",
   "id": "98d73556-aa14-4dcd-ba6d-8b3fd377b51c",
   "metadata": {},
   "source": [
    "Q1  Explain the following with an example a) Artificial Intelligence b) Machine Learning c) Deep Learning\n",
    "ANS : Artificial Intelligence\n",
    "Artificial Intelligence (AI) refers to the simulation of human intelligence in machines that are programmed to think and act like humans. It encompasses a wide range of technologies and applications, including machine learning and deep learning. AI enables machines to perform tasks that typically require human intelligence. For example, virtual assistants, autonomous vehicles, and language translations are all practical examples of AI15.\n",
    "Machine Learning\n",
    "Machine Learning is a subset of AI that enables machines to learn from data and improve their performance on a specific task without being explicitly programmed. It focuses on the development of computer programs that can access data and use it to learn for themselves. For instance, machine learning is used in sales forecasting, fraud analysis, and product recommendations4.\n",
    "Deep Learning\n",
    "Deep Learning is a subset of machine learning that uses artificial neural networks to model and understand complex patterns in data. It allows machines to solve complex problems even when using unstructured and interconnected data. Practical examples of deep learning include computer vision, customer experience enhancement, and fraud detection125.\n",
    "In summary, AI is the broader concept of machines being able to carry out tasks in a way that we would consider \"smart,\" while machine learning and deep learning are specific approaches to realizing AI.\n",
    "\n",
    "Q2- What is supervised learning? List some examples of supervised learning.\n",
    "Supervised learning is a type of machine learning where the model is trained on a labeled dataset. It learns to make predictions from labeled data. Some examples of supervised learning include:\n",
    "Classification: Predicting whether an email is spam or not.\n",
    "Regression: Predicting the price of a house based on its features.\n",
    "\n",
    "Q3- What is unsupervised learning? List some examples of unsupervised learning.\n",
    "\n",
    "Unsupervised learning is a type of machine learning where the model is trained on unlabeled data. It finds patterns and relationships in the data. Some examples of unsupervised learning include:\n",
    "Clustering: Grouping similar customers together based on their purchasing behavior.\n",
    "Anomaly detection: Identifying unusual patterns that do not conform to expected behavior.\n",
    "\n",
    "Q4- What is the difference between AI, ML, DL, and DS?\n",
    "AI (Artificial Intelligence) is the broader concept of machines being able to carry out tasks in a way that we would consider \"smart.\"\n",
    "ML (Machine Learning) is a subset of AI that allows a system to learn from data.\n",
    "DL (Deep Learning) is a subset of ML, where artificial neural networks, algorithms inspired by the human brain, learn from large amounts of data.\n",
    "DS (Data Science) is a multidisciplinary field that uses scientific methods, processes, algorithms, and systems to extract knowledge and insights from data.\n",
    "\n",
    "Q5- What are the main differences between supervised, unsupervised, and semi-supervised learning?\n",
    "The main differences are:\n",
    "Supervised learning uses labeled data, unsupervised learning uses unlabeled data, and semi-supervised learning uses a combination of both.\n",
    "In supervised learning, the model learns from the labeled data to make predictions, while in unsupervised learning, the model finds patterns and relationships in the unlabeled data.\n",
    "\n",
    "Semi-supervised learning is used when labeled data is scarce, and it combines the strengths of both supervised and unsupervised learning.\n",
    "Q6- What is train, test, and validation split? Explain the importance of each term.\n",
    "Train, test, and validation split is a technique used to evaluate the performance of a machine learning model.\n",
    "The training set is used to train the model, the test set is used to evaluate the model's performance, and the validation set is used to fine-tune the model's hyperparameters.\n",
    "The training set is crucial for the model to learn from the data, the test set helps to estimate the model's performance on an independent dataset, and the validation set is used to avoid overfitting and select the best model.\n",
    "\n",
    "Q7- How can unsupervised learning be used in anomaly detection?\n",
    "Unsupervised learning can be used in anomaly detection by training a model on normal data and then identifying instances that deviate significantly from the norm as anomalies. Techniques such as clustering, density estimation, and autoencoders can be used for anomaly detection.\n",
    "\n",
    "Q8- List down some commonly used supervised learning algorithms and unsupervised learning algorithms.\n",
    "Some commonly used supervised learning algorithms include:\n",
    "Linear Regression\n",
    "Logistic Regression\n",
    "Decision Trees\n",
    "Random Forest\n",
    "Support Vector Machines (SVM)\n",
    "K-Nearest Neighbors (KNN)\n",
    "Neural Networks\n",
    "Some commonly used unsupervised learning algorithms include:\n",
    "K-Means Clustering\n",
    "Hierarchical Clustering\n",
    "Gaussian Mixture Models\n",
    "Principal Component Analysis (PCA)\n",
    "t-Distributed Stochastic Neighbor Embedding (t-SNE)\n",
    "Association Rule Learning (Apriori algorithm)\n",
    "\n"
   ]
  }
 ],
 "metadata": {
  "kernelspec": {
   "display_name": "Python 3 (ipykernel)",
   "language": "python",
   "name": "python3"
  },
  "language_info": {
   "codemirror_mode": {
    "name": "ipython",
    "version": 3
   },
   "file_extension": ".py",
   "mimetype": "text/x-python",
   "name": "python",
   "nbconvert_exporter": "python",
   "pygments_lexer": "ipython3",
   "version": "3.10.6"
  }
 },
 "nbformat": 4,
 "nbformat_minor": 5
}
